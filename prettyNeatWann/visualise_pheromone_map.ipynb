{
 "cells": [
  {
   "cell_type": "code",
   "execution_count": 11,
   "metadata": {},
   "outputs": [],
   "source": [
    "import os\n",
    "import h5py\n",
    "import numpy as np\n",
    "import matplotlib.pyplot as plt\n",
    "import matplotlib.animation as animation\n",
    "\n",
    "DATA_DIRECTORY = \"data/2023_2/\"\n",
    "\n",
    "def load_pheromone_data(hdf5_file_path: str):\n",
    "    with h5py.File(hdf5_file_path, 'r') as h5f:\n",
    "        pheromone_dataset = h5f['pheromone_time_series']\n",
    "        pheromone_data = pheromone_dataset[()]\n",
    "    return pheromone_data\n",
    "\n",
    "def animate_pheromone_time_series(\n",
    "    pheromone_data: np.ndarray,\n",
    "    interval: int = 200,  # milliseconds\n",
    "    save: bool = False,\n",
    "    save_path: str = \"pheromone_animation.mp4\"\n",
    "):\n",
    "    num_frames, height, width = pheromone_data.shape\n",
    "\n",
    "    fig, ax = plt.subplots(figsize=(6, 6))\n",
    "    plt.xlabel('X Grid')\n",
    "    plt.ylabel('Y Grid')\n",
    "    plt.title('Pheromone Intensity Over Time')\n",
    "\n",
    "    im = ax.imshow(pheromone_data[0], cmap='viridis', vmin=0, vmax=1, origin='lower')\n",
    "    cbar = plt.colorbar(im, ax=ax)\n",
    "    cbar.set_label('Pheromone Intensity')\n",
    "\n",
    "    def update(frame):\n",
    "        im.set_data(pheromone_data[frame])\n",
    "        ax.set_title(f'Pheromone Intensity - Frame {frame + 1}/{num_frames}')\n",
    "        return [im]\n",
    "\n",
    "    ani = animation.FuncAnimation(\n",
    "        fig, update, frames=num_frames, blit=True, interval=interval, repeat=False\n",
    "    )\n",
    "\n",
    "    if save:\n",
    "        ani.save(save_path, writer='ffmpeg', fps=1000/interval)\n",
    "        print(f\"Animation saved to {save_path}\")\n",
    "    else:\n",
    "        plt.show()\n"
   ]
  },
  {
   "cell_type": "code",
   "execution_count": null,
   "metadata": {},
   "outputs": [
    {
     "name": "stdout",
     "output_type": "stream",
     "text": [
      "Pheromone data shape: (14400, 50, 50)\n"
     ]
    }
   ],
   "source": [
    "output_file_path = \"pheromone_time_series_discrete.h5\"  # Update this path if different\n",
    "pheromone_data = load_pheromone_data(os.path.join(DATA_DIRECTORY, output_file_path))\n",
    "print(f\"Pheromone data shape: {pheromone_data.shape}\")  # Optional: Verify data shape\n",
    "\n",
    "animate_pheromone_time_series(\n",
    "    pheromone_data=pheromone_data,\n",
    "    interval=50,         # Adjust as needed\n",
    "    save=True,           # Change to True to save the animation\n",
    "    save_path=os.path.join(DATA_DIRECTORY, \"pheromone_animation.mp4\")  # Update if saving\n",
    ")\n"
   ]
  }
 ],
 "metadata": {
  "kernelspec": {
   "display_name": "wannts",
   "language": "python",
   "name": "python3"
  },
  "language_info": {
   "codemirror_mode": {
    "name": "ipython",
    "version": 3
   },
   "file_extension": ".py",
   "mimetype": "text/x-python",
   "name": "python",
   "nbconvert_exporter": "python",
   "pygments_lexer": "ipython3",
   "version": "3.11.9"
  }
 },
 "nbformat": 4,
 "nbformat_minor": 2
}
