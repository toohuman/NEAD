{
 "cells": [
  {
   "cell_type": "markdown",
   "metadata": {},
   "source": [
    "# Generating data based on extracted positional data from Ant recordings\n",
    "\n",
    "Assuming a numpy array is provided from some ant-tracking library/software, then we can read in the ant position time series. From this time series data, we can generate per-ant training data by slicing up \"interesting\" ant dynamics over a period of time.\n"
   ]
  },
  {
   "cell_type": "code",
   "execution_count": 1,
   "metadata": {},
   "outputs": [],
   "source": [
    "# Imports\n",
    "import numpy as np\n",
    "import lzma, pickle\n",
    "\n",
    "from collections import namedtuple\n",
    "\n",
    "# Plotting/output\n",
    "import matplotlib.pyplot as plt\n",
    "import pandas as pd\n",
    "import seaborn as sns\n",
    "sns.set_theme()\n",
    "\n",
    "sns.set_style(style='white')\n",
    "\n",
    "# ---------------------------\n",
    "\n",
    "# Progress bar\n",
    "from IPython.display import HTML, display\n",
    "import time\n",
    "\n",
    "def ProgressIter(iter_fun, iter_len=0):\n",
    "  if not iter_len:\n",
    "    iter_len = len(iter_fun)\n",
    "  out = display(progress(0, iter_len), display_id=True)\n",
    "  for i, it in enumerate(iter_fun):\n",
    "    yield it\n",
    "    out.update(progress(i + 1, iter_len))\n",
    "\n",
    "def progress(value, max):\n",
    "    return HTML(\"\"\"\n",
    "        <progress\n",
    "            value='{value}'\n",
    "            max='{max}',\n",
    "            style='width: 45%'\n",
    "        >\n",
    "            {value}\n",
    "        </progress>\n",
    "    \"\"\".format(value=value, max=max))"
   ]
  },
  {
   "cell_type": "markdown",
   "metadata": {},
   "source": [
    "## Loading the data\n",
    "\n",
    "The file format is as follows:\n",
    "- 64 ants\n",
    "- the files is numpy array format and the shape is (526200, 64, 2) = (time frame, N, x-y)\n",
    "- FPS is 59.94\n",
    "\n",
    "- Arena width = 100 mm ~= 856 px\n",
    "- 5 mm ~= 43 px\n",
    "- "
   ]
  },
  {
   "cell_type": "code",
   "execution_count": 2,
   "metadata": {},
   "outputs": [],
   "source": [
    "file_name = \"../../data/N064_01_JDJ_20211014_position_filled.npy\"\n",
    "data = np.load(file_name)\n",
    "# data = data[:round(len(data)/2)] # Maruyama-san says the second half is boring.\n",
    "\n",
    "Ants = namedtuple('Ants', ['pos', 'traj', 'kinergy'])\n",
    "\n",
    "colony_size = len(data[0])\n",
    "time = len(data)\n",
    "interval = 60   # Process every [interval] frames to generate future data\n",
    "unit_conversion = 43/5  # Pixel-to-mm conversion\n",
    "\n",
    "# Create a named tuple for the ants which stores position, colour and cluster.\n",
    "# Useful data can be added to this type at a later date.\n",
    "ants = Ants(\n",
    "    pos = np.array(data[0][:]),\n",
    "    traj = np.array([[np.NaN, np.NaN] for _ in range(colony_size)]),\n",
    "    kinergy = np.array([np.NaN for _ in range(colony_size)]),\n",
    ")"
   ]
  },
  {
   "cell_type": "markdown",
   "metadata": {},
   "source": [
    "## Data generation\n",
    "\n",
    "Now that the supporting data structures have been created, we need to fill the time series with data based on the ants' positions captured from the video."
   ]
  },
  {
   "cell_type": "code",
   "execution_count": 3,
   "metadata": {},
   "outputs": [],
   "source": [
    "def ant_trajectory(ants, prev_ants):\n",
    "    return ants - prev_ants\n",
    "\n",
    "def distances_travelled(distances):\n",
    "    return [np.sqrt(x.dot(x)) for x in distances]\n",
    "\n",
    "def kinetic_energy(ants, prev_ants):\n",
    "    return [np.sum(x.dot(x)) for x in ants - prev_ants]"
   ]
  },
  {
   "cell_type": "markdown",
   "metadata": {},
   "source": [
    "### Calculate Euclidean distances between each pair of ants, as well as each ant's distance of travel over time\n",
    "\n",
    "Given the positions of ants at each time step, we need to calculate their respective Euclidean distances. For each pair, we can then use their distance to determine if they are interacting, based on some simple definition of an **interaction**. Similarly, we can use this definition of interaction to determine whether a pair of ants is \"connected\" in a network.\n",
    "\n",
    "*(An interaction is currently based on pairwise distance alone, but in the future it would be ideal to be able to identify the angle of each ant to determine a more accurate interaction, and also perhaps classify the kind of interaction observed.)*"
   ]
  },
  {
   "cell_type": "code",
   "execution_count": 4,
   "metadata": {},
   "outputs": [],
   "source": [
    "def euclidean_distances(ants):\n",
    "    a = np.array(ants.pos)\n",
    "    b = a.reshape(a.shape[0], 1, a.shape[1])\n",
    "    distances = np.sqrt(np.einsum('ijk, ijk->ij', a-b, a-b))\n",
    "    np.fill_diagonal(distances, np.NaN)\n",
    "    distances[np.arange(distances.shape[0]) > np.arange(distances.shape[1])[:,None]] = np.NaN\n",
    "\n",
    "    return distances"
   ]
  },
  {
   "cell_type": "code",
   "execution_count": 5,
   "metadata": {},
   "outputs": [
    {
     "data": {
      "text/html": [
       "\n",
       "        <progress\n",
       "            value='8770'\n",
       "            max='8770',\n",
       "            style='width: 45%'\n",
       "        >\n",
       "            8770\n",
       "        </progress>\n",
       "    "
      ],
      "text/plain": [
       "<IPython.core.display.HTML object>"
      ]
     },
     "metadata": {},
     "output_type": "display_data"
    }
   ],
   "source": [
    "ants_buffer = []\n",
    "travel_dist_buffer = []\n",
    "pairwise_dist_buffer = []\n",
    "\n",
    "state = {\n",
    "    'ants': ants,\n",
    "    'travel_distances': np.zeros(colony_size, dtype=float),\n",
    "    'kinetic_energy': np.zeros(colony_size, dtype=float),\n",
    "    'pairwise_distances': np.zeros((colony_size, colony_size), dtype=float),\n",
    "}\n",
    "\n",
    "# approx. 60 frames per second\n",
    "for i in ProgressIter(range(0, time, interval)):\n",
    "    state['ants'] = Ants(\n",
    "        np.array(data[i][:]),\n",
    "        np.array([[np.NaN, np.NaN] for _ in range(colony_size)]) if i == 0 else ant_trajectory(np.array(data[i][:]), np.array(data[i - interval][:])),\n",
    "        np.array([np.NaN for _ in range(colony_size)]) if i == 0 else kinetic_energy(np.array(data[i][:]), np.array(data[i - interval][:])),\n",
    "    )\n",
    "    state['travel_distances'] = distances_travelled(state['ants'].traj)\n",
    "    state['pairwise_distances'] = euclidean_distances(state['ants'])\n",
    "\n",
    "    ants_buffer += [state['ants']]\n",
    "    travel_dist_buffer += [state['travel_distances']]\n",
    "    pairwise_dist_buffer += [state['pairwise_distances']]\n"
   ]
  },
  {
   "cell_type": "code",
   "execution_count": 6,
   "metadata": {},
   "outputs": [],
   "source": [
    "# Pickle the relevant ant data for other notebooks to use.\n",
    "import lzma, pickle\n",
    "\n",
    "with lzma.open('../data/ants_time_series_data.pkl.xz', 'wb') as file:\n",
    "    pickle.dump(ants_buffer, file)\n",
    "\n",
    "with lzma.open('../data/ants_travel_distances.pkl.xz', 'wb') as file:\n",
    "    pickle.dump(travel_dist_buffer, file)\n",
    "\n",
    "with lzma.open('../data/ants_pairwise_distances.pkl.xz', 'wb') as file:\n",
    "    pickle.dump(pairwise_dist_buffer, file)"
   ]
  },
  {
   "cell_type": "markdown",
   "metadata": {},
   "source": [
    "### Ant trajectories"
   ]
  },
  {
   "cell_type": "code",
   "execution_count": 7,
   "metadata": {},
   "outputs": [
    {
     "name": "stderr",
     "output_type": "stream",
     "text": [
      "/opt/homebrew/Caskroom/miniforge/base/envs/wannts/lib/python3.11/site-packages/seaborn/_oldcore.py:1498: FutureWarning: is_categorical_dtype is deprecated and will be removed in a future version. Use isinstance(dtype, CategoricalDtype) instead\n",
      "  if pd.api.types.is_categorical_dtype(vector):\n",
      "/opt/homebrew/Caskroom/miniforge/base/envs/wannts/lib/python3.11/site-packages/seaborn/_oldcore.py:1498: FutureWarning: is_categorical_dtype is deprecated and will be removed in a future version. Use isinstance(dtype, CategoricalDtype) instead\n",
      "  if pd.api.types.is_categorical_dtype(vector):\n",
      "/opt/homebrew/Caskroom/miniforge/base/envs/wannts/lib/python3.11/site-packages/seaborn/_oldcore.py:1119: FutureWarning: use_inf_as_na option is deprecated and will be removed in a future version. Convert inf values to NaN before operating instead.\n",
      "  with pd.option_context('mode.use_inf_as_na', True):\n",
      "/opt/homebrew/Caskroom/miniforge/base/envs/wannts/lib/python3.11/site-packages/seaborn/_oldcore.py:1119: FutureWarning: use_inf_as_na option is deprecated and will be removed in a future version. Convert inf values to NaN before operating instead.\n",
      "  with pd.option_context('mode.use_inf_as_na', True):\n"
     ]
    },
    {
     "data": {
      "text/plain": [
       "Text(0.5, 1.0, 'Distance travelled (mm)')"
      ]
     },
     "execution_count": 7,
     "metadata": {},
     "output_type": "execute_result"
    },
    {
     "data": {
      "image/png": "[encoded data removed]",
      "text/plain": [
       "<Figure size 1000x300 with 1 Axes>"
      ]
     },
     "metadata": {},
     "output_type": "display_data"
    }
   ],
   "source": [
    "sum_distances_travelled = np.array([np.sum(x) for x in travel_dist_buffer])/unit_conversion\n",
    "max_distances_travelled = np.array([np.max(x) for x in travel_dist_buffer])/unit_conversion\n",
    "avg_distances_travelled = np.array([np.average(x) for x in travel_dist_buffer])/unit_conversion\n",
    "sns.set(rc={'figure.figsize':(10,3)})\n",
    "plt = sns.lineplot(x=list(range(len(avg_distances_travelled))), y=avg_distances_travelled, label='avg')\n",
    "plt.set_title('Distance travelled (mm)')"
   ]
  }
 ],
 "metadata": {
  "kernelspec": {
   "display_name": "Python 3.10.5 ('ants')",
   "language": "python",
   "name": "python3"
  },
  "language_info": {
   "codemirror_mode": {
    "name": "ipython",
    "version": 3
   },
   "file_extension": ".py",
   "mimetype": "text/x-python",
   "name": "python",
   "nbconvert_exporter": "python",
   "pygments_lexer": "ipython3",
   "version": "3.11.5"
  },
  "orig_nbformat": 4,
  "vscode": {
   "interpreter": {
    "hash": "cdf9c8c27f2cdc3d1a867aa820bcb0766ab60d1007145714000a58bac42ce191"
   }
  }
 },
 "nbformat": 4,
 "nbformat_minor": 2
}
