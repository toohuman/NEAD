{
 "cells": [
  {
   "cell_type": "markdown",
   "metadata": {},
   "source": [
    "# Generating a training set based on extracted ant data\n",
    "\n",
    "Load pickled data files for ant positions, trajectories, distances, etc.\n",
    "\n",
    "At this moment, I'm uncertain what amount of time each sequence should be set to -- should it be fixed across all sequences in the training set? Or should these be different? It will help the network to learn how to generate dynamics but I need to read up on this part.\n"
   ]
  },
  {
   "cell_type": "code",
   "execution_count": 82,
   "metadata": {},
   "outputs": [],
   "source": [
    "# Imports\n",
    "import numpy as np\n",
    "import lzma, pickle\n",
    "import os\n",
    "\n",
    "from collections import namedtuple\n",
    "\n",
    "# Plotting/output\n",
    "import matplotlib.pyplot as plt\n",
    "import pandas as pd\n",
    "import seaborn as sns\n",
    "sns.set_theme()\n",
    "\n",
    "sns.set_style(style='white')\n",
    "\n",
    "# ---------------------------\n",
    "\n",
    "# Progress bar\n",
    "from IPython.display import HTML, display\n",
    "import time\n",
    "\n",
    "def ProgressIter(iter_fun, iter_len=0):\n",
    "  if not iter_len:\n",
    "    iter_len = len(iter_fun)\n",
    "  out = display(progress(0, iter_len), display_id=True)\n",
    "  for i, it in enumerate(iter_fun):\n",
    "    yield it\n",
    "    out.update(progress(i + 1, iter_len))\n",
    "\n",
    "def progress(value, max):\n",
    "    return HTML(\"\"\"\n",
    "        <progress\n",
    "            value='{value}'\n",
    "            max='{max}',\n",
    "            style='width: 45%'\n",
    "        >\n",
    "            {value}\n",
    "        </progress>\n",
    "    \"\"\".format(value=value, max=max))"
   ]
  },
  {
   "cell_type": "markdown",
   "metadata": {},
   "source": [
    "## Converting the ant data format\n",
    "\n"
   ]
  },
  {
   "cell_type": "code",
   "execution_count": 83,
   "metadata": {},
   "outputs": [
    {
     "name": "stdout",
     "output_type": "stream",
     "text": [
      "      0             1             2             3              4          ...  \\\n",
      "       x      y      x      y      x      y      x       y      x      y  ...   \n",
      "0  272.0  332.0  490.0  835.0  472.0  867.0  447.0  1053.0  428.0  240.0  ...   \n",
      "1  272.0  332.0  491.0  836.0  471.0  867.0  447.0  1053.0  428.0  240.0  ...   \n",
      "2  271.0  332.0  491.0  837.0  471.0  867.0  448.0  1052.0  428.0  240.0  ...   \n",
      "3  271.0  331.0  491.0  837.0  470.0  867.0  447.0  1052.0  428.0  240.0  ...   \n",
      "4  271.0  331.0  492.0  837.0  470.0  867.0  447.0  1052.0  428.0  240.0  ...   \n",
      "\n",
      "      49          50      51      52      53      \n",
      "       x       y   x   y   x   y   x   y   x   y  \n",
      "0  632.0  1216.0 NaN NaN NaN NaN NaN NaN NaN NaN  \n",
      "1  631.0  1216.0 NaN NaN NaN NaN NaN NaN NaN NaN  \n",
      "2  632.0  1216.0 NaN NaN NaN NaN NaN NaN NaN NaN  \n",
      "3  630.0  1216.0 NaN NaN NaN NaN NaN NaN NaN NaN  \n",
      "4  630.0  1216.0 NaN NaN NaN NaN NaN NaN NaN NaN  \n",
      "\n",
      "[5 rows x 108 columns]\n",
      "KA050_10cm_5h_20230614_1h-2h.pkl.xz\n"
     ]
    }
   ],
   "source": [
    "# Read in the pickled data produced from the generate_data.ipynb.\n",
    "import lzma, pickle\n",
    "\n",
    "source_dir = '../../data/2023_2/'\n",
    "input_file = 'KA050_10cm_5h_20230614_1h-2h.pkl'\n",
    "with open(os.path.join(source_dir, input_file), 'rb') as file:\n",
    "    ant_data = pd.DataFrame(pickle.load(file))\n",
    "\n",
    "print(ant_data.head())\n",
    "\n",
    "output_filename = '.'.join(input_file.split('.')[0:-1]) + '.pkl.xz'\n",
    "print(output_filename)\n",
    "if not os.path.exists(os.path.join(source_dir, output_filename)):\n",
    "    ant_data.to_pickle(os.path.join(source_dir, output_filename), compression='xz')\n",
    "    \n",
    "\n",
    "# 216000 entries, 60 fps * 60 seconds * 60 minutes = 1 hour.\n",
    "# for i in range(0, len(ant_data.T), 2):\n",
    "#     for j, k in enumerate(zip(ant_data[i].x, ant_data[i].y)):\n",
    "#         print(i, j, k)\n",
    "#     break"
   ]
  },
  {
   "cell_type": "markdown",
   "metadata": {},
   "source": [
    "## Importing the ant data"
   ]
  },
  {
   "cell_type": "code",
   "execution_count": 84,
   "metadata": {},
   "outputs": [
    {
     "name": "stdout",
     "output_type": "stream",
     "text": [
      "['KA050_10cm_5h_20230614_1h-2h.pkl.xz', 'KA050_10cm_5h_20230614_4h-5h.pkl.xz', 'KA050_10cm_5h_20230614_3h-4h.pkl.xz', 'KA050_10cm_5h_20230614_2h-3h.pkl.xz']\n"
     ]
    }
   ],
   "source": [
    "import lzma, pickle\n",
    "\n",
    "source_dir = '../../data/2023_2/'\n",
    "input_files = []\n",
    "\n",
    "for file in os.listdir(source_dir):\n",
    "    if file.endswith('.pkl.xz'):\n",
    "        input_files.append(file)\n",
    "\n",
    "print(input_files)\n",
    "ant_data = []\n",
    "\n",
    "for input_file in input_files:\n",
    "    with lzma.open(os.path.join(source_dir, input_file)) as file:\n",
    "        ant_data.append(pd.read_pickle(file))\n",
    "\n",
    "ant_data = pd.concat(ant_data, ignore_index=True)\n"
   ]
  },
  {
   "cell_type": "code",
   "execution_count": 1,
   "metadata": {},
   "outputs": [
    {
     "ename": "NameError",
     "evalue": "name 'ant_data' is not defined",
     "output_type": "error",
     "traceback": [
      "\u001b[0;31m---------------------------------------------------------------------------\u001b[0m",
      "\u001b[0;31mNameError\u001b[0m                                 Traceback (most recent call last)",
      "Cell \u001b[0;32mIn[1], line 15\u001b[0m\n\u001b[1;32m      9\u001b[0m \u001b[38;5;66;03m# print(ant_data.T[0])\u001b[39;00m\n\u001b[1;32m     10\u001b[0m \u001b[38;5;66;03m# print(len(ant_data.T[0].values))\u001b[39;00m\n\u001b[1;32m     11\u001b[0m \u001b[38;5;66;03m# print(ant_data[[col for col in ant_data.columns if 'x' in col]].values[0])\u001b[39;00m\n\u001b[1;32m     12\u001b[0m \u001b[38;5;66;03m# print(ant_data[[col for col in ant_data.columns if 'x' in col]][0:100].values[0])\u001b[39;00m\n\u001b[1;32m     14\u001b[0m distance_data \u001b[38;5;241m=\u001b[39m []\n\u001b[0;32m---> 15\u001b[0m \u001b[38;5;28;01mfor\u001b[39;00m i \u001b[38;5;129;01min\u001b[39;00m \u001b[38;5;28mrange\u001b[39m(\u001b[38;5;241m0\u001b[39m, \u001b[38;5;28mlen\u001b[39m(\u001b[43mant_data\u001b[49m), \u001b[38;5;241m10000\u001b[39m):\n\u001b[1;32m     16\u001b[0m     distance_data\u001b[38;5;241m.\u001b[39mappend(euclidean_distances(\n\u001b[1;32m     17\u001b[0m         \u001b[38;5;28mlist\u001b[39m(\u001b[38;5;28mzip\u001b[39m(\n\u001b[1;32m     18\u001b[0m             ant_data[[col \u001b[38;5;28;01mfor\u001b[39;00m col \u001b[38;5;129;01min\u001b[39;00m ant_data\u001b[38;5;241m.\u001b[39mcolumns \u001b[38;5;28;01mif\u001b[39;00m \u001b[38;5;124m'\u001b[39m\u001b[38;5;124mx\u001b[39m\u001b[38;5;124m'\u001b[39m \u001b[38;5;129;01min\u001b[39;00m col]]\u001b[38;5;241m.\u001b[39mvalues[i],\n\u001b[1;32m     19\u001b[0m             ant_data[[col \u001b[38;5;28;01mfor\u001b[39;00m col \u001b[38;5;129;01min\u001b[39;00m ant_data\u001b[38;5;241m.\u001b[39mcolumns \u001b[38;5;28;01mif\u001b[39;00m \u001b[38;5;124m'\u001b[39m\u001b[38;5;124my\u001b[39m\u001b[38;5;124m'\u001b[39m \u001b[38;5;129;01min\u001b[39;00m col]]\u001b[38;5;241m.\u001b[39mvalues[i]\n\u001b[1;32m     20\u001b[0m         ))\n\u001b[1;32m     21\u001b[0m     ))\n\u001b[1;32m     22\u001b[0m \u001b[38;5;28mprint\u001b[39m(np\u001b[38;5;241m.\u001b[39marray(distance_data[\u001b[38;5;241m0\u001b[39m]))\n",
      "\u001b[0;31mNameError\u001b[0m: name 'ant_data' is not defined"
     ]
    }
   ],
   "source": [
    "def euclidean_distances(data):\n",
    "    a = np.array(data)\n",
    "    b = a.reshape(a.shape[0], 1, a.shape[1])\n",
    "    distances = np.sqrt(np.einsum('ijk, ijk->ij', a-b, a-b))\n",
    "    np.fill_diagonal(distances, np.NaN)\n",
    "\n",
    "    return distances\n",
    "\n",
    "# print(ant_data.T[0])\n",
    "# print(len(ant_data.T[0].values))\n",
    "# print(ant_data[[col for col in ant_data.columns if 'x' in col]].values[0])\n",
    "# print(ant_data[[col for col in ant_data.columns if 'x' in col]][0:100].values[0])\n",
    "\n",
    "distance_data = []\n",
    "for i in range(0, len(ant_data), 10000):\n",
    "    distance_data.append(euclidean_distances(\n",
    "        list(zip(\n",
    "            ant_data[[col for col in ant_data.columns if 'x' in col]].values[i],\n",
    "            ant_data[[col for col in ant_data.columns if 'y' in col]].values[i]\n",
    "        ))\n",
    "    ))\n",
    "print(np.array(distance_data[0]))\n",
    "\n",
    "print(distance_data.shape())"
   ]
  },
  {
   "cell_type": "code",
   "execution_count": 86,
   "metadata": {},
   "outputs": [
    {
     "name": "stdout",
     "output_type": "stream",
     "text": [
      "57.0\n",
      "50\n"
     ]
    }
   ],
   "source": [
    "# Finding columns with at least one NaN value in either 'x' or 'y' subcolumns\n",
    "columns_with_nan = [col for col in ant_data.columns.levels[0] if ant_data[col].isna().any().any()]\n",
    "\n",
    "print(len(ant_data.columns)/2)\n",
    "print(len(columns_with_nan))"
   ]
  },
  {
   "cell_type": "markdown",
   "metadata": {},
   "source": [
    "## Find the (x, y) coordinate bounds for the ants within the video space\n",
    "\n",
    "Find where the ants are able to explore within pixel space, finding\n",
    "(x-min, y-min, x-max, y-max)"
   ]
  },
  {
   "cell_type": "code",
   "execution_count": 87,
   "metadata": {},
   "outputs": [
    {
     "data": {
      "text/html": [
       "<div>\n",
       "<style scoped>\n",
       "    .dataframe tbody tr th:only-of-type {\n",
       "        vertical-align: middle;\n",
       "    }\n",
       "\n",
       "    .dataframe tbody tr th {\n",
       "        vertical-align: top;\n",
       "    }\n",
       "\n",
       "    .dataframe thead tr th {\n",
       "        text-align: left;\n",
       "    }\n",
       "</style>\n",
       "<table border=\"1\" class=\"dataframe\">\n",
       "  <thead>\n",
       "    <tr>\n",
       "      <th></th>\n",
       "      <th colspan=\"2\" halign=\"left\">0</th>\n",
       "      <th colspan=\"2\" halign=\"left\">1</th>\n",
       "      <th colspan=\"2\" halign=\"left\">2</th>\n",
       "      <th colspan=\"2\" halign=\"left\">3</th>\n",
       "      <th colspan=\"2\" halign=\"left\">4</th>\n",
       "      <th>...</th>\n",
       "      <th colspan=\"2\" halign=\"left\">52</th>\n",
       "      <th colspan=\"2\" halign=\"left\">53</th>\n",
       "      <th colspan=\"2\" halign=\"left\">54</th>\n",
       "      <th colspan=\"2\" halign=\"left\">55</th>\n",
       "      <th colspan=\"2\" halign=\"left\">56</th>\n",
       "    </tr>\n",
       "    <tr>\n",
       "      <th></th>\n",
       "      <th>x</th>\n",
       "      <th>y</th>\n",
       "      <th>x</th>\n",
       "      <th>y</th>\n",
       "      <th>x</th>\n",
       "      <th>y</th>\n",
       "      <th>x</th>\n",
       "      <th>y</th>\n",
       "      <th>x</th>\n",
       "      <th>y</th>\n",
       "      <th>...</th>\n",
       "      <th>x</th>\n",
       "      <th>y</th>\n",
       "      <th>x</th>\n",
       "      <th>y</th>\n",
       "      <th>x</th>\n",
       "      <th>y</th>\n",
       "      <th>x</th>\n",
       "      <th>y</th>\n",
       "      <th>x</th>\n",
       "      <th>y</th>\n",
       "    </tr>\n",
       "  </thead>\n",
       "  <tbody>\n",
       "    <tr>\n",
       "      <th>0</th>\n",
       "      <td>272.0</td>\n",
       "      <td>332.0</td>\n",
       "      <td>490.0</td>\n",
       "      <td>835.0</td>\n",
       "      <td>472.0</td>\n",
       "      <td>867.0</td>\n",
       "      <td>447.0</td>\n",
       "      <td>1053.0</td>\n",
       "      <td>428.0</td>\n",
       "      <td>240.0</td>\n",
       "      <td>...</td>\n",
       "      <td>NaN</td>\n",
       "      <td>NaN</td>\n",
       "      <td>NaN</td>\n",
       "      <td>NaN</td>\n",
       "      <td>NaN</td>\n",
       "      <td>NaN</td>\n",
       "      <td>NaN</td>\n",
       "      <td>NaN</td>\n",
       "      <td>NaN</td>\n",
       "      <td>NaN</td>\n",
       "    </tr>\n",
       "    <tr>\n",
       "      <th>1</th>\n",
       "      <td>272.0</td>\n",
       "      <td>332.0</td>\n",
       "      <td>491.0</td>\n",
       "      <td>836.0</td>\n",
       "      <td>471.0</td>\n",
       "      <td>867.0</td>\n",
       "      <td>447.0</td>\n",
       "      <td>1053.0</td>\n",
       "      <td>428.0</td>\n",
       "      <td>240.0</td>\n",
       "      <td>...</td>\n",
       "      <td>NaN</td>\n",
       "      <td>NaN</td>\n",
       "      <td>NaN</td>\n",
       "      <td>NaN</td>\n",
       "      <td>NaN</td>\n",
       "      <td>NaN</td>\n",
       "      <td>NaN</td>\n",
       "      <td>NaN</td>\n",
       "      <td>NaN</td>\n",
       "      <td>NaN</td>\n",
       "    </tr>\n",
       "    <tr>\n",
       "      <th>2</th>\n",
       "      <td>271.0</td>\n",
       "      <td>332.0</td>\n",
       "      <td>491.0</td>\n",
       "      <td>837.0</td>\n",
       "      <td>471.0</td>\n",
       "      <td>867.0</td>\n",
       "      <td>448.0</td>\n",
       "      <td>1052.0</td>\n",
       "      <td>428.0</td>\n",
       "      <td>240.0</td>\n",
       "      <td>...</td>\n",
       "      <td>NaN</td>\n",
       "      <td>NaN</td>\n",
       "      <td>NaN</td>\n",
       "      <td>NaN</td>\n",
       "      <td>NaN</td>\n",
       "      <td>NaN</td>\n",
       "      <td>NaN</td>\n",
       "      <td>NaN</td>\n",
       "      <td>NaN</td>\n",
       "      <td>NaN</td>\n",
       "    </tr>\n",
       "    <tr>\n",
       "      <th>3</th>\n",
       "      <td>271.0</td>\n",
       "      <td>331.0</td>\n",
       "      <td>491.0</td>\n",
       "      <td>837.0</td>\n",
       "      <td>470.0</td>\n",
       "      <td>867.0</td>\n",
       "      <td>447.0</td>\n",
       "      <td>1052.0</td>\n",
       "      <td>428.0</td>\n",
       "      <td>240.0</td>\n",
       "      <td>...</td>\n",
       "      <td>NaN</td>\n",
       "      <td>NaN</td>\n",
       "      <td>NaN</td>\n",
       "      <td>NaN</td>\n",
       "      <td>NaN</td>\n",
       "      <td>NaN</td>\n",
       "      <td>NaN</td>\n",
       "      <td>NaN</td>\n",
       "      <td>NaN</td>\n",
       "      <td>NaN</td>\n",
       "    </tr>\n",
       "    <tr>\n",
       "      <th>4</th>\n",
       "      <td>271.0</td>\n",
       "      <td>331.0</td>\n",
       "      <td>492.0</td>\n",
       "      <td>837.0</td>\n",
       "      <td>470.0</td>\n",
       "      <td>867.0</td>\n",
       "      <td>447.0</td>\n",
       "      <td>1052.0</td>\n",
       "      <td>428.0</td>\n",
       "      <td>240.0</td>\n",
       "      <td>...</td>\n",
       "      <td>NaN</td>\n",
       "      <td>NaN</td>\n",
       "      <td>NaN</td>\n",
       "      <td>NaN</td>\n",
       "      <td>NaN</td>\n",
       "      <td>NaN</td>\n",
       "      <td>NaN</td>\n",
       "      <td>NaN</td>\n",
       "      <td>NaN</td>\n",
       "      <td>NaN</td>\n",
       "    </tr>\n",
       "  </tbody>\n",
       "</table>\n",
       "<p>5 rows × 114 columns</p>\n",
       "</div>"
      ],
      "text/plain": [
       "      0             1             2             3              4          ...  \\\n",
       "       x      y      x      y      x      y      x       y      x      y  ...   \n",
       "0  272.0  332.0  490.0  835.0  472.0  867.0  447.0  1053.0  428.0  240.0  ...   \n",
       "1  272.0  332.0  491.0  836.0  471.0  867.0  447.0  1053.0  428.0  240.0  ...   \n",
       "2  271.0  332.0  491.0  837.0  471.0  867.0  448.0  1052.0  428.0  240.0  ...   \n",
       "3  271.0  331.0  491.0  837.0  470.0  867.0  447.0  1052.0  428.0  240.0  ...   \n",
       "4  271.0  331.0  492.0  837.0  470.0  867.0  447.0  1052.0  428.0  240.0  ...   \n",
       "\n",
       "   52      53      54      55      56      \n",
       "    x   y   x   y   x   y   x   y   x   y  \n",
       "0 NaN NaN NaN NaN NaN NaN NaN NaN NaN NaN  \n",
       "1 NaN NaN NaN NaN NaN NaN NaN NaN NaN NaN  \n",
       "2 NaN NaN NaN NaN NaN NaN NaN NaN NaN NaN  \n",
       "3 NaN NaN NaN NaN NaN NaN NaN NaN NaN NaN  \n",
       "4 NaN NaN NaN NaN NaN NaN NaN NaN NaN NaN  \n",
       "\n",
       "[5 rows x 114 columns]"
      ]
     },
     "execution_count": 87,
     "metadata": {},
     "output_type": "execute_result"
    }
   ],
   "source": [
    "ant_data.head()"
   ]
  },
  {
   "cell_type": "code",
   "execution_count": 123,
   "metadata": {},
   "outputs": [
    {
     "data": {
      "text/plain": [
       "(42.0, 54.0, 1243.0, 1229.0)"
      ]
     },
     "execution_count": 123,
     "metadata": {},
     "output_type": "execute_result"
    }
   ],
   "source": [
    "# Concatenating all x and y values into separate Series\n",
    "all_x_values = ant_data[[col for col in ant_data.columns if 'x' in col]]\n",
    "all_y_values = ant_data[[col for col in ant_data.columns if 'y' in col]]\n",
    "# Calculating the minimum and maximum for x and y values efficiently\n",
    "min_x = all_x_values.min(axis=None)\n",
    "max_x = all_x_values.max(axis=None)\n",
    "min_y = all_y_values.min(axis=None)\n",
    "max_y = all_y_values.max(axis=None)\n",
    "\n",
    "min_x, min_y, max_x, max_y"
   ]
  },
  {
   "cell_type": "markdown",
   "metadata": {},
   "source": [
    "Find the circular area contained within the bounding box given by (min(x,y), max(x, y))"
   ]
  },
  {
   "cell_type": "code",
   "execution_count": 89,
   "metadata": {},
   "outputs": [
    {
     "name": "stdout",
     "output_type": "stream",
     "text": [
      "(642.5, 641.5) 587.5\n"
     ]
    }
   ],
   "source": [
    "def calculate_circle(min_x, min_y, max_x, max_y):\n",
    "    \"\"\"\n",
    "    Calculate the circle that fits perfectly within a bounding box.\n",
    "\n",
    "    Parameters:\n",
    "    min_x (float): The minimum x value of the bounding box.\n",
    "    max_x (float): The maximum x value of the bounding box.\n",
    "    min_y (float): The minimum y value of the bounding box.\n",
    "    max_y (float): The maximum y value of the bounding box.\n",
    "\n",
    "    Returns:\n",
    "    tuple: A tuple containing the center coordinates (x, y) and the radius of the circle.\n",
    "    \"\"\"\n",
    "    # Calculate the center of the bounding box\n",
    "    x_centre = (min_x + max_x) / 2\n",
    "    y_centre = (min_y + max_y) / 2\n",
    "\n",
    "    # Calculate the radius of the circle\n",
    "    radius = min(max_x - min_x, max_y - min_y) / 2\n",
    "\n",
    "    return ((x_centre, y_centre), radius)\n",
    "\n",
    "centre, radius = calculate_circle(min_x, min_y, max_x, max_y)\n",
    "print(centre, radius)"
   ]
  },
  {
   "cell_type": "code",
   "execution_count": 90,
   "metadata": {},
   "outputs": [
    {
     "name": "stdout",
     "output_type": "stream",
     "text": [
      "Translation: (-192.5, -191.5), Scaling: 0.7353191489361702\n",
      "((450.0, 450.0), 432.0)\n"
     ]
    }
   ],
   "source": [
    "def circle_transformation(circle_a, circle_b):\n",
    "    \"\"\"\n",
    "    Calculate the transformation from one circle to another.\n",
    "\n",
    "    Parameters:\n",
    "    circle_a (tuple): A tuple (x_a, y_a, r_a) representing Circle A's center and radius.\n",
    "    circle_b (tuple): A tuple (x_b, y_b, r_b) representing Circle B's center and radius.\n",
    "\n",
    "    Returns:\n",
    "    tuple: A tuple containing the translation vector (dx, dy) and the scaling factor.\n",
    "    \"\"\"\n",
    "    (x_a, y_a), r_a = circle_a\n",
    "    (x_b, y_b), r_b = circle_b\n",
    "\n",
    "    # Translation vector\n",
    "    dx = x_b - x_a\n",
    "    dy = y_b - y_a\n",
    "\n",
    "    # Scaling factor\n",
    "    scale = r_b / r_a\n",
    "\n",
    "    return (dx, dy), scale\n",
    "\n",
    "circle_a = ((642.5, 641.5), 587.5)\n",
    "circle_b = ((450.0, 450.0), 432.0)\n",
    "\n",
    "translation, scaling = circle_transformation(circle_a, circle_b)\n",
    "print(f\"Translation: {translation}, Scaling: {scaling}\")\n",
    "\n",
    "circle_c = ((circle_a[0][0] + translation[0], circle_a[0][1] + translation[1]), circle_a[1] * scaling)\n",
    "print(circle_c)\n"
   ]
  },
  {
   "cell_type": "markdown",
   "metadata": {},
   "source": [
    "## Create the data set\n",
    "\n",
    "What is the best way to do this?\n",
    "- Chunk it up ahead of time?\n",
    "- What is the suitable length of time for each trajectory?\n",
    "- Should we categorise/distribute the trajectories based on motion?\n",
    "  - Total distance from start\n",
    "  - Total distance travelled\n",
    "  - Time spent moving\n"
   ]
  },
  {
   "cell_type": "code",
   "execution_count": 91,
   "metadata": {},
   "outputs": [
    {
     "name": "stdout",
     "output_type": "stream",
     "text": [
      "            x      y\n",
      "0       472.0  867.0\n",
      "1       471.0  867.0\n",
      "2       471.0  867.0\n",
      "3       470.0  867.0\n",
      "4       470.0  867.0\n",
      "...       ...    ...\n",
      "863998    NaN    NaN\n",
      "863999    NaN    NaN\n",
      "864000    NaN    NaN\n",
      "864001    NaN    NaN\n",
      "864002    NaN    NaN\n",
      "\n",
      "[864003 rows x 2 columns]\n",
      "57.0\n"
     ]
    }
   ],
   "source": [
    "print(ant_data[2])\n",
    "print(len(ant_data.T)/2)"
   ]
  },
  {
   "cell_type": "code",
   "execution_count": 92,
   "metadata": {},
   "outputs": [],
   "source": [
    "num_trails = 10_000\n",
    "trail_length = 60 * 60\n",
    "s = np.zeros((num_trails, trail_length, 2), dtype=float)\n",
    "\n",
    "for i in range(num_trails):\n",
    "    start = np.random.randint(0, len(ant_data[0]) - trail_length)\n",
    "    ant_index = np.random.randint(0, len(ant_data.columns.levels[0]))\n",
    "    not_null = False\n",
    "    while not not_null:\n",
    "        ant_index = np.random.randint(0, len(ant_data.columns.levels[0]))\n",
    "        if np.isnan(np.array(ant_data[ant_index][start:start + trail_length])).any():\n",
    "            continue\n",
    "        else:\n",
    "            s[i][0:trail_length] = ant_data[ant_index][start:start + trail_length]\n",
    "            not_null = True\n"
   ]
  }
 ],
 "metadata": {
  "kernelspec": {
   "display_name": "Python 3.10.5 ('ants')",
   "language": "python",
   "name": "python3"
  },
  "language_info": {
   "codemirror_mode": {
    "name": "ipython",
    "version": 3
   },
   "file_extension": ".py",
   "mimetype": "text/x-python",
   "name": "python",
   "nbconvert_exporter": "python",
   "pygments_lexer": "ipython3",
   "version": "3.11.5"
  },
  "orig_nbformat": 4,
  "vscode": {
   "interpreter": {
    "hash": "cdf9c8c27f2cdc3d1a867aa820bcb0766ab60d1007145714000a58bac42ce191"
   }
  }
 },
 "nbformat": 4,
 "nbformat_minor": 2
}
